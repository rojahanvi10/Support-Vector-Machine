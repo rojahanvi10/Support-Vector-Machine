{
 "cells": [
  {
   "cell_type": "code",
   "execution_count": 13,
   "id": "e26eecdb",
   "metadata": {},
   "outputs": [],
   "source": [
    "import pandas as pd\n",
    "import numpy as np\n",
    "import matplotlib.pyplot as plt\n",
    "import seaborn as sns\n",
    "from sklearn.preprocessing import LabelEncoder,StandardScaler\n",
    "from sklearn.linear_model import LogisticRegression\n",
    "from sklearn.tree import DecisionTreeClassifier\n",
    "from sklearn.ensemble import RandomForestClassifier\n",
    "from sklearn.neighbors import KNeighborsClassifier\n",
    "from sklearn.naive_bayes import GaussianNB\n",
    "from sklearn.svm import SVC\n",
    "from sklearn.metrics import accuracy_score,classification_report,confusion_matrix\n",
    "\n",
    "\n",
    "import warnings\n",
    "warnings.simplefilter(\"ignore\")"
   ]
  },
  {
   "cell_type": "code",
   "execution_count": 14,
   "id": "4c4ba9ae",
   "metadata": {},
   "outputs": [],
   "source": [
    "df=pd.read_csv(\"D:\\\\ExcelR Data Science\\\\Assignments\\\\SVM\\\\forestfires.csv\")"
   ]
  },
  {
   "cell_type": "code",
   "execution_count": 15,
   "id": "67ec2282",
   "metadata": {},
   "outputs": [
    {
     "data": {
      "text/html": [
       "<div>\n",
       "<style scoped>\n",
       "    .dataframe tbody tr th:only-of-type {\n",
       "        vertical-align: middle;\n",
       "    }\n",
       "\n",
       "    .dataframe tbody tr th {\n",
       "        vertical-align: top;\n",
       "    }\n",
       "\n",
       "    .dataframe thead th {\n",
       "        text-align: right;\n",
       "    }\n",
       "</style>\n",
       "<table border=\"1\" class=\"dataframe\">\n",
       "  <thead>\n",
       "    <tr style=\"text-align: right;\">\n",
       "      <th></th>\n",
       "      <th>month</th>\n",
       "      <th>day</th>\n",
       "      <th>FFMC</th>\n",
       "      <th>DMC</th>\n",
       "      <th>DC</th>\n",
       "      <th>ISI</th>\n",
       "      <th>temp</th>\n",
       "      <th>RH</th>\n",
       "      <th>wind</th>\n",
       "      <th>rain</th>\n",
       "      <th>...</th>\n",
       "      <th>monthfeb</th>\n",
       "      <th>monthjan</th>\n",
       "      <th>monthjul</th>\n",
       "      <th>monthjun</th>\n",
       "      <th>monthmar</th>\n",
       "      <th>monthmay</th>\n",
       "      <th>monthnov</th>\n",
       "      <th>monthoct</th>\n",
       "      <th>monthsep</th>\n",
       "      <th>size_category</th>\n",
       "    </tr>\n",
       "  </thead>\n",
       "  <tbody>\n",
       "    <tr>\n",
       "      <th>0</th>\n",
       "      <td>mar</td>\n",
       "      <td>fri</td>\n",
       "      <td>86.2</td>\n",
       "      <td>26.2</td>\n",
       "      <td>94.3</td>\n",
       "      <td>5.1</td>\n",
       "      <td>8.2</td>\n",
       "      <td>51</td>\n",
       "      <td>6.7</td>\n",
       "      <td>0.0</td>\n",
       "      <td>...</td>\n",
       "      <td>0</td>\n",
       "      <td>0</td>\n",
       "      <td>0</td>\n",
       "      <td>0</td>\n",
       "      <td>1</td>\n",
       "      <td>0</td>\n",
       "      <td>0</td>\n",
       "      <td>0</td>\n",
       "      <td>0</td>\n",
       "      <td>small</td>\n",
       "    </tr>\n",
       "    <tr>\n",
       "      <th>1</th>\n",
       "      <td>oct</td>\n",
       "      <td>tue</td>\n",
       "      <td>90.6</td>\n",
       "      <td>35.4</td>\n",
       "      <td>669.1</td>\n",
       "      <td>6.7</td>\n",
       "      <td>18.0</td>\n",
       "      <td>33</td>\n",
       "      <td>0.9</td>\n",
       "      <td>0.0</td>\n",
       "      <td>...</td>\n",
       "      <td>0</td>\n",
       "      <td>0</td>\n",
       "      <td>0</td>\n",
       "      <td>0</td>\n",
       "      <td>0</td>\n",
       "      <td>0</td>\n",
       "      <td>0</td>\n",
       "      <td>1</td>\n",
       "      <td>0</td>\n",
       "      <td>small</td>\n",
       "    </tr>\n",
       "    <tr>\n",
       "      <th>2</th>\n",
       "      <td>oct</td>\n",
       "      <td>sat</td>\n",
       "      <td>90.6</td>\n",
       "      <td>43.7</td>\n",
       "      <td>686.9</td>\n",
       "      <td>6.7</td>\n",
       "      <td>14.6</td>\n",
       "      <td>33</td>\n",
       "      <td>1.3</td>\n",
       "      <td>0.0</td>\n",
       "      <td>...</td>\n",
       "      <td>0</td>\n",
       "      <td>0</td>\n",
       "      <td>0</td>\n",
       "      <td>0</td>\n",
       "      <td>0</td>\n",
       "      <td>0</td>\n",
       "      <td>0</td>\n",
       "      <td>1</td>\n",
       "      <td>0</td>\n",
       "      <td>small</td>\n",
       "    </tr>\n",
       "    <tr>\n",
       "      <th>3</th>\n",
       "      <td>mar</td>\n",
       "      <td>fri</td>\n",
       "      <td>91.7</td>\n",
       "      <td>33.3</td>\n",
       "      <td>77.5</td>\n",
       "      <td>9.0</td>\n",
       "      <td>8.3</td>\n",
       "      <td>97</td>\n",
       "      <td>4.0</td>\n",
       "      <td>0.2</td>\n",
       "      <td>...</td>\n",
       "      <td>0</td>\n",
       "      <td>0</td>\n",
       "      <td>0</td>\n",
       "      <td>0</td>\n",
       "      <td>1</td>\n",
       "      <td>0</td>\n",
       "      <td>0</td>\n",
       "      <td>0</td>\n",
       "      <td>0</td>\n",
       "      <td>small</td>\n",
       "    </tr>\n",
       "    <tr>\n",
       "      <th>4</th>\n",
       "      <td>mar</td>\n",
       "      <td>sun</td>\n",
       "      <td>89.3</td>\n",
       "      <td>51.3</td>\n",
       "      <td>102.2</td>\n",
       "      <td>9.6</td>\n",
       "      <td>11.4</td>\n",
       "      <td>99</td>\n",
       "      <td>1.8</td>\n",
       "      <td>0.0</td>\n",
       "      <td>...</td>\n",
       "      <td>0</td>\n",
       "      <td>0</td>\n",
       "      <td>0</td>\n",
       "      <td>0</td>\n",
       "      <td>1</td>\n",
       "      <td>0</td>\n",
       "      <td>0</td>\n",
       "      <td>0</td>\n",
       "      <td>0</td>\n",
       "      <td>small</td>\n",
       "    </tr>\n",
       "  </tbody>\n",
       "</table>\n",
       "<p>5 rows × 31 columns</p>\n",
       "</div>"
      ],
      "text/plain": [
       "  month  day  FFMC   DMC     DC  ISI  temp  RH  wind  rain  ...  monthfeb  \\\n",
       "0   mar  fri  86.2  26.2   94.3  5.1   8.2  51   6.7   0.0  ...         0   \n",
       "1   oct  tue  90.6  35.4  669.1  6.7  18.0  33   0.9   0.0  ...         0   \n",
       "2   oct  sat  90.6  43.7  686.9  6.7  14.6  33   1.3   0.0  ...         0   \n",
       "3   mar  fri  91.7  33.3   77.5  9.0   8.3  97   4.0   0.2  ...         0   \n",
       "4   mar  sun  89.3  51.3  102.2  9.6  11.4  99   1.8   0.0  ...         0   \n",
       "\n",
       "   monthjan  monthjul  monthjun  monthmar  monthmay  monthnov  monthoct  \\\n",
       "0         0         0         0         1         0         0         0   \n",
       "1         0         0         0         0         0         0         1   \n",
       "2         0         0         0         0         0         0         1   \n",
       "3         0         0         0         1         0         0         0   \n",
       "4         0         0         0         1         0         0         0   \n",
       "\n",
       "   monthsep  size_category  \n",
       "0         0          small  \n",
       "1         0          small  \n",
       "2         0          small  \n",
       "3         0          small  \n",
       "4         0          small  \n",
       "\n",
       "[5 rows x 31 columns]"
      ]
     },
     "execution_count": 15,
     "metadata": {},
     "output_type": "execute_result"
    }
   ],
   "source": [
    "df.head()"
   ]
  },
  {
   "cell_type": "code",
   "execution_count": 16,
   "id": "526b8fc3",
   "metadata": {},
   "outputs": [
    {
     "data": {
      "text/plain": [
       "month              oct\n",
       "day                tue\n",
       "FFMC              90.6\n",
       "DMC               35.4\n",
       "DC               669.1\n",
       "ISI                6.7\n",
       "temp              18.0\n",
       "RH                  33\n",
       "wind               0.9\n",
       "rain               0.0\n",
       "area               0.0\n",
       "dayfri               0\n",
       "daymon               0\n",
       "daysat               0\n",
       "daysun               0\n",
       "daythu               0\n",
       "daytue               1\n",
       "daywed               0\n",
       "monthapr             0\n",
       "monthaug             0\n",
       "monthdec             0\n",
       "monthfeb             0\n",
       "monthjan             0\n",
       "monthjul             0\n",
       "monthjun             0\n",
       "monthmar             0\n",
       "monthmay             0\n",
       "monthnov             0\n",
       "monthoct             1\n",
       "monthsep             0\n",
       "size_category    small\n",
       "Name: 1, dtype: object"
      ]
     },
     "execution_count": 16,
     "metadata": {},
     "output_type": "execute_result"
    }
   ],
   "source": [
    "df.loc[1]"
   ]
  },
  {
   "cell_type": "code",
   "execution_count": 17,
   "id": "9b6a8a61",
   "metadata": {},
   "outputs": [
    {
     "name": "stdout",
     "output_type": "stream",
     "text": [
      "<class 'pandas.core.frame.DataFrame'>\n",
      "RangeIndex: 517 entries, 0 to 516\n",
      "Data columns (total 31 columns):\n",
      " #   Column         Non-Null Count  Dtype  \n",
      "---  ------         --------------  -----  \n",
      " 0   month          517 non-null    object \n",
      " 1   day            517 non-null    object \n",
      " 2   FFMC           517 non-null    float64\n",
      " 3   DMC            517 non-null    float64\n",
      " 4   DC             517 non-null    float64\n",
      " 5   ISI            517 non-null    float64\n",
      " 6   temp           517 non-null    float64\n",
      " 7   RH             517 non-null    int64  \n",
      " 8   wind           517 non-null    float64\n",
      " 9   rain           517 non-null    float64\n",
      " 10  area           517 non-null    float64\n",
      " 11  dayfri         517 non-null    int64  \n",
      " 12  daymon         517 non-null    int64  \n",
      " 13  daysat         517 non-null    int64  \n",
      " 14  daysun         517 non-null    int64  \n",
      " 15  daythu         517 non-null    int64  \n",
      " 16  daytue         517 non-null    int64  \n",
      " 17  daywed         517 non-null    int64  \n",
      " 18  monthapr       517 non-null    int64  \n",
      " 19  monthaug       517 non-null    int64  \n",
      " 20  monthdec       517 non-null    int64  \n",
      " 21  monthfeb       517 non-null    int64  \n",
      " 22  monthjan       517 non-null    int64  \n",
      " 23  monthjul       517 non-null    int64  \n",
      " 24  monthjun       517 non-null    int64  \n",
      " 25  monthmar       517 non-null    int64  \n",
      " 26  monthmay       517 non-null    int64  \n",
      " 27  monthnov       517 non-null    int64  \n",
      " 28  monthoct       517 non-null    int64  \n",
      " 29  monthsep       517 non-null    int64  \n",
      " 30  size_category  517 non-null    object \n",
      "dtypes: float64(8), int64(20), object(3)\n",
      "memory usage: 125.3+ KB\n"
     ]
    }
   ],
   "source": [
    "df.info()"
   ]
  },
  {
   "cell_type": "code",
   "execution_count": 6,
   "id": "d87c75a1",
   "metadata": {},
   "outputs": [
    {
     "data": {
      "text/plain": [
       "(517, 31)"
      ]
     },
     "execution_count": 6,
     "metadata": {},
     "output_type": "execute_result"
    }
   ],
   "source": [
    "df.shape"
   ]
  },
  {
   "cell_type": "code",
   "execution_count": 24,
   "id": "6967a788",
   "metadata": {},
   "outputs": [
    {
     "data": {
      "text/plain": [
       "<AxesSubplot:xlabel='month', ylabel='rain'>"
      ]
     },
     "execution_count": 24,
     "metadata": {},
     "output_type": "execute_result"
    },
    {
     "data": {
      "image/png": "[encoded data removed]",
      "text/plain": [
       "<Figure size 640x480 with 1 Axes>"
      ]
     },
     "metadata": {},
     "output_type": "display_data"
    }
   ],
   "source": [
    "sns.barplot(x='month',y='rain',data=df.groupby('month').sum()['rain'].reset_index())"
   ]
  },
  {
   "cell_type": "code",
   "execution_count": 25,
   "id": "bfb75e4c",
   "metadata": {},
   "outputs": [],
   "source": [
    "# we can drop month day features as it is already encoded with OneHot Coder\n",
    "df=df.drop(['month','day'],axis=1)"
   ]
  },
  {
   "cell_type": "code",
   "execution_count": null,
   "id": "e89a5c12",
   "metadata": {},
   "outputs": [],
   "source": [
    "df.head()"
   ]
  },
  {
   "cell_type": "code",
   "execution_count": 26,
   "id": "778c78f0",
   "metadata": {},
   "outputs": [],
   "source": [
    "le=LabelEncoder()\n",
    "df['size_category']=le.fit_transform(df['size_category'])"
   ]
  },
  {
   "cell_type": "code",
   "execution_count": 28,
   "id": "e36037fd",
   "metadata": {},
   "outputs": [],
   "source": [
    "x=df.drop('size_category',axis=1)"
   ]
  },
  {
   "cell_type": "code",
   "execution_count": 29,
   "id": "308d2b3f",
   "metadata": {},
   "outputs": [],
   "source": [
    "y=df['size_category']"
   ]
  },
  {
   "cell_type": "code",
   "execution_count": 30,
   "id": "1427c8d4",
   "metadata": {},
   "outputs": [],
   "source": [
    "sd=StandardScaler()\n",
    "x=sd.fit_transform(x)"
   ]
  },
  {
   "cell_type": "code",
   "execution_count": 34,
   "id": "b7d40c7e",
   "metadata": {},
   "outputs": [],
   "source": [
    "from sklearn.model_selection import train_test_split\n",
    "x_train,x_test,y_train,y_test=train_test_split(x,y,test_size=0.25,random_state=42)"
   ]
  },
  {
   "cell_type": "code",
   "execution_count": 35,
   "id": "1c196161",
   "metadata": {},
   "outputs": [
    {
     "name": "stdout",
     "output_type": "stream",
     "text": [
      "ClassificationReport:\n",
      "               precision    recall  f1-score   support\n",
      "\n",
      "           0       0.37      0.93      0.53        14\n",
      "           1       0.99      0.81      0.89       116\n",
      "\n",
      "    accuracy                           0.82       130\n",
      "   macro avg       0.68      0.87      0.71       130\n",
      "weighted avg       0.92      0.82      0.85       130\n",
      "\n",
      "ConfusionMatrix:\n",
      " [[13  1]\n",
      " [22 94]]\n",
      "Accuracy:\n",
      " 0.82%\n"
     ]
    }
   ],
   "source": [
    "\n",
    "svc_model = SVC(C=.1, kernel='linear', gamma=1)\n",
    "svc_model.fit(x_train, y_train)\n",
    "svc_pred=svc_model.predict(x_test)\n",
    "\n",
    "print(\"ClassificationReport:\\n\",classification_report(svc_pred,y_test))\n",
    "print(\"ConfusionMatrix:\\n\",confusion_matrix(svc_pred,y_test))\n",
    "print(\"Accuracy:\\n\",\"{:.2f}%\".format(accuracy_score(svc_pred,y_test)))"
   ]
  },
  {
   "cell_type": "code",
   "execution_count": 36,
   "id": "ac66fbb7",
   "metadata": {},
   "outputs": [
    {
     "name": "stdout",
     "output_type": "stream",
     "text": [
      "ClassificationReport:\n",
      "               precision    recall  f1-score   support\n",
      "\n",
      "           0       0.00      0.00      0.00         0\n",
      "           1       1.00      0.73      0.84       130\n",
      "\n",
      "    accuracy                           0.73       130\n",
      "   macro avg       0.50      0.37      0.42       130\n",
      "weighted avg       1.00      0.73      0.84       130\n",
      "\n",
      "ConfusionMatrix:\n",
      " [[ 0  0]\n",
      " [35 95]]\n",
      "Accuracy:\n",
      " 0.73%\n"
     ]
    }
   ],
   "source": [
    "#RBF Kernel in SVM\n",
    "svc_model_rbf = SVC(C=.1, kernel='rbf')\n",
    "svc_model_rbf.fit(x_train, y_train)\n",
    "svc_pred_rbf=svc_model_rbf.predict(x_test)\n",
    "\n",
    "print(\"ClassificationReport:\\n\",classification_report(svc_pred_rbf,y_test))\n",
    "print(\"ConfusionMatrix:\\n\",confusion_matrix(svc_pred_rbf,y_test))\n",
    "print(\"Accuracy:\\n\",\"{:.2f}%\".format(accuracy_score(svc_pred_rbf,y_test)))"
   ]
  },
  {
   "cell_type": "code",
   "execution_count": 38,
   "id": "4c0307f0",
   "metadata": {},
   "outputs": [
    {
     "name": "stdout",
     "output_type": "stream",
     "text": [
      "ClassificationReport:\n",
      "               precision    recall  f1-score   support\n",
      "\n",
      "           0       0.00      0.00      0.00         0\n",
      "           1       1.00      0.73      0.84       130\n",
      "\n",
      "    accuracy                           0.73       130\n",
      "   macro avg       0.50      0.37      0.42       130\n",
      "weighted avg       1.00      0.73      0.84       130\n",
      "\n",
      "ConfusionMatrix:\n",
      " [[ 0  0]\n",
      " [35 95]]\n",
      "Accuracy:\n",
      " 0.73%\n"
     ]
    }
   ],
   "source": [
    "#Polynomial Kernel in SVM\n",
    "svc_model_poly = SVC(C=.1, kernel='poly')\n",
    "svc_model_poly.fit(x_train, y_train)\n",
    "svc_pred_poly=svc_model_rbf.predict(x_test)\n",
    "\n",
    "print(\"ClassificationReport:\\n\",classification_report(svc_pred_poly,y_test))\n",
    "print(\"ConfusionMatrix:\\n\",confusion_matrix(svc_pred_poly,y_test))\n",
    "print(\"Accuracy:\\n\",\"{:.2f}%\".format(accuracy_score(svc_pred_poly,y_test)))"
   ]
  },
  {
   "cell_type": "code",
   "execution_count": 40,
   "id": "292ad5a7",
   "metadata": {},
   "outputs": [
    {
     "name": "stdout",
     "output_type": "stream",
     "text": [
      "ClassificationReport:\n",
      "               precision    recall  f1-score   support\n",
      "\n",
      "           0       0.57      0.91      0.70        22\n",
      "           1       0.98      0.86      0.92       108\n",
      "\n",
      "    accuracy                           0.87       130\n",
      "   macro avg       0.78      0.89      0.81       130\n",
      "weighted avg       0.91      0.87      0.88       130\n",
      "\n",
      "ConfusionMatrix:\n",
      " [[20  2]\n",
      " [15 93]]\n",
      "Accuracy: 0.87%\n"
     ]
    }
   ],
   "source": [
    "# Comparing with other classification models\n",
    "\n",
    "lr=LogisticRegression()\n",
    "lr.fit(x_train,y_train)\n",
    "lr_pred=lr.predict(x_test)\n",
    "\n",
    "print(\"ClassificationReport:\\n\",classification_report(lr_pred,y_test))\n",
    "print(\"ConfusionMatrix:\\n\",confusion_matrix(lr_pred,y_test))\n",
    "print(\"Accuracy:\",\"{:.2f}%\".format(accuracy_score(lr_pred,y_test)))"
   ]
  },
  {
   "cell_type": "code",
   "execution_count": 41,
   "id": "62ea27c9",
   "metadata": {},
   "outputs": [
    {
     "name": "stdout",
     "output_type": "stream",
     "text": [
      "Classification Report:\n",
      "               precision    recall  f1-score   support\n",
      "\n",
      "           0       1.00      1.00      1.00        35\n",
      "           1       1.00      1.00      1.00        95\n",
      "\n",
      "    accuracy                           1.00       130\n",
      "   macro avg       1.00      1.00      1.00       130\n",
      "weighted avg       1.00      1.00      1.00       130\n",
      "\n",
      "Confusion Matrix:\n",
      " [[35  0]\n",
      " [ 0 95]]\n",
      "Accuracy: 1.00%\n"
     ]
    }
   ],
   "source": [
    "ds=DecisionTreeClassifier()\n",
    "ds.fit(x_train,y_train)\n",
    "ds_pred=ds.predict(x_test)\n",
    "\n",
    "print('Classification Report:\\n',classification_report(y_test,ds_pred))\n",
    "print('Confusion Matrix:\\n',confusion_matrix(y_test,ds_pred))\n",
    "print(\"Accuracy:\",\"{:.2f}%\".format(accuracy_score(ds_pred,y_test)))"
   ]
  },
  {
   "cell_type": "code",
   "execution_count": 42,
   "id": "d3d8a46d",
   "metadata": {},
   "outputs": [
    {
     "name": "stdout",
     "output_type": "stream",
     "text": [
      "Classification Report:\n",
      "               precision    recall  f1-score   support\n",
      "\n",
      "           0       1.00      1.00      1.00        35\n",
      "           1       1.00      1.00      1.00        95\n",
      "\n",
      "    accuracy                           1.00       130\n",
      "   macro avg       1.00      1.00      1.00       130\n",
      "weighted avg       1.00      1.00      1.00       130\n",
      "\n",
      "Confusion Matrix:\n",
      " [[35  0]\n",
      " [ 0 95]]\n",
      "Accuracy: 1.00%\n"
     ]
    }
   ],
   "source": [
    "rf=RandomForestClassifier()\n",
    "rf.fit(x_train,y_train)\n",
    "rf_pred=rf.predict(x_test)\n",
    "\n",
    "print('Classification Report:\\n',classification_report(y_test,rf_pred))\n",
    "print('Confusion Matrix:\\n',confusion_matrix(y_test,rf_pred))\n",
    "print(\"Accuracy:\",\"{:.2f}%\".format(accuracy_score(rf_pred,y_test)))"
   ]
  },
  {
   "cell_type": "code",
   "execution_count": 43,
   "id": "2450313c",
   "metadata": {},
   "outputs": [
    {
     "name": "stdout",
     "output_type": "stream",
     "text": [
      "Classification Report:\n",
      "               precision    recall  f1-score   support\n",
      "\n",
      "           0       0.38      0.17      0.24        35\n",
      "           1       0.75      0.89      0.81        95\n",
      "\n",
      "    accuracy                           0.70       130\n",
      "   macro avg       0.56      0.53      0.52       130\n",
      "weighted avg       0.65      0.70      0.66       130\n",
      "\n",
      "Confusion Matrix:\n",
      " [[ 6 29]\n",
      " [10 85]]\n",
      "Accuracy: 0.70%\n"
     ]
    }
   ],
   "source": [
    "knn=KNeighborsClassifier()\n",
    "knn.fit(x_train,y_train)\n",
    "knn_pred=knn.predict(x_test)\n",
    "\n",
    "print('Classification Report:\\n',classification_report(y_test,knn_pred))\n",
    "print('Confusion Matrix:\\n',confusion_matrix(y_test,knn_pred))\n",
    "print(\"Accuracy:\",\"{:.2f}%\".format(accuracy_score(knn_pred,y_test)))"
   ]
  },
  {
   "cell_type": "code",
   "execution_count": 44,
   "id": "6c92f858",
   "metadata": {},
   "outputs": [
    {
     "name": "stdout",
     "output_type": "stream",
     "text": [
      "ClassificationReport:\n",
      "               precision    recall  f1-score   support\n",
      "\n",
      "           0       0.86      0.88      0.87        34\n",
      "           1       0.96      0.95      0.95        96\n",
      "\n",
      "    accuracy                           0.93       130\n",
      "   macro avg       0.91      0.92      0.91       130\n",
      "weighted avg       0.93      0.93      0.93       130\n",
      "\n",
      "ConfusionMatrix:\n",
      " [[30  4]\n",
      " [ 5 91]]\n",
      "Accuracy:\n",
      " 0.93%\n"
     ]
    }
   ],
   "source": [
    "gnb=GaussianNB()\n",
    "gnb.fit(x_train,y_train)\n",
    "gnb_pred=gnb.predict(x_test)\n",
    "\n",
    "#Evaluation\n",
    "print(\"ClassificationReport:\\n\",classification_report(gnb_pred,y_test))\n",
    "print(\"ConfusionMatrix:\\n\",confusion_matrix(gnb_pred,y_test))\n",
    "print(\"Accuracy:\\n\",\"{:.2f}%\".format(accuracy_score(gnb_pred,y_test)))"
   ]
  },
  {
   "cell_type": "code",
   "execution_count": 45,
   "id": "07031ff4",
   "metadata": {},
   "outputs": [
    {
     "name": "stdout",
     "output_type": "stream",
     "text": [
      "Classification Report:\n",
      "               precision    recall  f1-score   support\n",
      "\n",
      "           0       1.00      1.00      1.00        35\n",
      "           1       1.00      1.00      1.00        95\n",
      "\n",
      "    accuracy                           1.00       130\n",
      "   macro avg       1.00      1.00      1.00       130\n",
      "weighted avg       1.00      1.00      1.00       130\n",
      "\n",
      "Confusion Matrix:\n",
      " [[35  0]\n",
      " [ 0 95]]\n",
      "Accuracy: 1.00%\n"
     ]
    }
   ],
   "source": [
    "from xgboost import XGBClassifier\n",
    "xg=XGBClassifier()\n",
    "xg.fit(x_train,y_train)\n",
    "xg_pred=xg.predict(x_test)\n",
    "\n",
    "print('Classification Report:\\n',classification_report(y_test,xg_pred))\n",
    "print('Confusion Matrix:\\n',confusion_matrix(y_test,xg_pred))\n",
    "print(\"Accuracy:\",\"{:.2f}%\".format(accuracy_score(xg_pred,y_test)))"
   ]
  },
  {
   "cell_type": "code",
   "execution_count": 46,
   "id": "e0b35eea",
   "metadata": {},
   "outputs": [],
   "source": [
    "model=['Logistic','NaiveBayes','DecisiionTree','RandomForest','KNNClassifier','XGBOOST','Support Vector Machine_Linear Kernal',\n",
    "      'Support Vector Machine_RBF Kernal','Support Vector Machine_Polynomial Kernal']\n",
    "accuracy=[accuracy_score(y_test,lr_pred),accuracy_score(gnb_pred,y_test),accuracy_score(y_test,ds_pred),\n",
    "          accuracy_score(y_test,rf_pred),accuracy_score(y_test,knn_pred),accuracy_score(xg_pred,y_test),\n",
    "          accuracy_score(svc_pred,y_test),accuracy_score(svc_pred_rbf,y_test),accuracy_score(svc_pred_poly,y_test)]\n",
    "acc=pd.DataFrame({'MLModel':model,\n",
    "                 'Accuracy':accuracy})"
   ]
  },
  {
   "cell_type": "code",
   "execution_count": 47,
   "id": "5416e1e8",
   "metadata": {},
   "outputs": [
    {
     "data": {
      "text/html": [
       "<div>\n",
       "<style scoped>\n",
       "    .dataframe tbody tr th:only-of-type {\n",
       "        vertical-align: middle;\n",
       "    }\n",
       "\n",
       "    .dataframe tbody tr th {\n",
       "        vertical-align: top;\n",
       "    }\n",
       "\n",
       "    .dataframe thead th {\n",
       "        text-align: right;\n",
       "    }\n",
       "</style>\n",
       "<table border=\"1\" class=\"dataframe\">\n",
       "  <thead>\n",
       "    <tr style=\"text-align: right;\">\n",
       "      <th></th>\n",
       "      <th>MLModel</th>\n",
       "      <th>Accuracy</th>\n",
       "    </tr>\n",
       "  </thead>\n",
       "  <tbody>\n",
       "    <tr>\n",
       "      <th>2</th>\n",
       "      <td>DecisiionTree</td>\n",
       "      <td>1.000000</td>\n",
       "    </tr>\n",
       "    <tr>\n",
       "      <th>3</th>\n",
       "      <td>RandomForest</td>\n",
       "      <td>1.000000</td>\n",
       "    </tr>\n",
       "    <tr>\n",
       "      <th>5</th>\n",
       "      <td>XGBOOST</td>\n",
       "      <td>1.000000</td>\n",
       "    </tr>\n",
       "    <tr>\n",
       "      <th>1</th>\n",
       "      <td>NaiveBayes</td>\n",
       "      <td>0.930769</td>\n",
       "    </tr>\n",
       "    <tr>\n",
       "      <th>0</th>\n",
       "      <td>Logistic</td>\n",
       "      <td>0.869231</td>\n",
       "    </tr>\n",
       "    <tr>\n",
       "      <th>6</th>\n",
       "      <td>Support Vector Machine_Linear Kernal</td>\n",
       "      <td>0.823077</td>\n",
       "    </tr>\n",
       "    <tr>\n",
       "      <th>7</th>\n",
       "      <td>Support Vector Machine_RBF Kernal</td>\n",
       "      <td>0.730769</td>\n",
       "    </tr>\n",
       "    <tr>\n",
       "      <th>8</th>\n",
       "      <td>Support Vector Machine_Polynomial Kernal</td>\n",
       "      <td>0.730769</td>\n",
       "    </tr>\n",
       "    <tr>\n",
       "      <th>4</th>\n",
       "      <td>KNNClassifier</td>\n",
       "      <td>0.700000</td>\n",
       "    </tr>\n",
       "  </tbody>\n",
       "</table>\n",
       "</div>"
      ],
      "text/plain": [
       "                                    MLModel  Accuracy\n",
       "2                             DecisiionTree  1.000000\n",
       "3                              RandomForest  1.000000\n",
       "5                                   XGBOOST  1.000000\n",
       "1                                NaiveBayes  0.930769\n",
       "0                                  Logistic  0.869231\n",
       "6      Support Vector Machine_Linear Kernal  0.823077\n",
       "7         Support Vector Machine_RBF Kernal  0.730769\n",
       "8  Support Vector Machine_Polynomial Kernal  0.730769\n",
       "4                             KNNClassifier  0.700000"
      ]
     },
     "execution_count": 47,
     "metadata": {},
     "output_type": "execute_result"
    }
   ],
   "source": [
    "acc.sort_values('Accuracy',ascending=False)"
   ]
  }
 ],
 "metadata": {
  "kernelspec": {
   "display_name": "Python 3 (ipykernel)",
   "language": "python",
   "name": "python3"
  },
  "language_info": {
   "codemirror_mode": {
    "name": "ipython",
    "version": 3
   },
   "file_extension": ".py",
   "mimetype": "text/x-python",
   "name": "python",
   "nbconvert_exporter": "python",
   "pygments_lexer": "ipython3",
   "version": "3.9.13"
  }
 },
 "nbformat": 4,
 "nbformat_minor": 5
}
